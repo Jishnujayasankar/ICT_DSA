{
 "cells": [
  {
   "cell_type": "markdown",
   "id": "4a6e9c5b",
   "metadata": {},
   "source": [
    "### Necessary Libraries"
   ]
  },
  {
   "cell_type": "code",
   "execution_count": 182,
   "id": "c8870e02",
   "metadata": {},
   "outputs": [],
   "source": [
    "import pandas as pd\n",
    "import numpy as np\n",
    "import seaborn as sns\n",
    "import matplotlib.pyplot as plt\n",
    "import warnings\n",
    "warnings.filterwarnings('ignore')\n",
    "from sklearn.preprocessing import LabelEncoder,StandardScaler\n",
    "from sklearn.model_selection import train_test_split\n",
    "from sklearn.metrics import accuracy_score\n",
    "from sklearn.linear_model import LogisticRegression\n",
    "from sklearn.neighbors import KNeighborsClassifier\n",
    "from sklearn.svm import SVC\n",
    "from sklearn.tree import DecisionTreeClassifier\n",
    "from sklearn.ensemble import RandomForestClassifier"
   ]
  },
  {
   "cell_type": "markdown",
   "id": "c2e5e3d3",
   "metadata": {},
   "source": [
    "### Importing Dataset"
   ]
  },
  {
   "cell_type": "code",
   "execution_count": 183,
   "id": "b5cdf7d3",
   "metadata": {},
   "outputs": [],
   "source": [
    "iris_data = pd.read_excel('iris (1).xls')"
   ]
  },
  {
   "cell_type": "code",
   "execution_count": 184,
   "id": "43b9a514",
   "metadata": {},
   "outputs": [
    {
     "data": {
      "text/html": [
       "<div>\n",
       "<style scoped>\n",
       "    .dataframe tbody tr th:only-of-type {\n",
       "        vertical-align: middle;\n",
       "    }\n",
       "\n",
       "    .dataframe tbody tr th {\n",
       "        vertical-align: top;\n",
       "    }\n",
       "\n",
       "    .dataframe thead th {\n",
       "        text-align: right;\n",
       "    }\n",
       "</style>\n",
       "<table border=\"1\" class=\"dataframe\">\n",
       "  <thead>\n",
       "    <tr style=\"text-align: right;\">\n",
       "      <th></th>\n",
       "      <th>SL</th>\n",
       "      <th>SW</th>\n",
       "      <th>PL</th>\n",
       "      <th>PW</th>\n",
       "      <th>Classification</th>\n",
       "    </tr>\n",
       "  </thead>\n",
       "  <tbody>\n",
       "    <tr>\n",
       "      <th>0</th>\n",
       "      <td>5.1</td>\n",
       "      <td>3.5</td>\n",
       "      <td>1.4</td>\n",
       "      <td>0.2</td>\n",
       "      <td>Iris-setosa</td>\n",
       "    </tr>\n",
       "    <tr>\n",
       "      <th>1</th>\n",
       "      <td>4.9</td>\n",
       "      <td>3.0</td>\n",
       "      <td>1.4</td>\n",
       "      <td>0.2</td>\n",
       "      <td>Iris-setosa</td>\n",
       "    </tr>\n",
       "    <tr>\n",
       "      <th>2</th>\n",
       "      <td>NaN</td>\n",
       "      <td>3.2</td>\n",
       "      <td>1.3</td>\n",
       "      <td>0.2</td>\n",
       "      <td>Iris-setosa</td>\n",
       "    </tr>\n",
       "    <tr>\n",
       "      <th>3</th>\n",
       "      <td>4.6</td>\n",
       "      <td>3.1</td>\n",
       "      <td>1.5</td>\n",
       "      <td>0.2</td>\n",
       "      <td>Iris-setosa</td>\n",
       "    </tr>\n",
       "    <tr>\n",
       "      <th>4</th>\n",
       "      <td>5.0</td>\n",
       "      <td>3.6</td>\n",
       "      <td>1.4</td>\n",
       "      <td>0.2</td>\n",
       "      <td>Iris-setosa</td>\n",
       "    </tr>\n",
       "  </tbody>\n",
       "</table>\n",
       "</div>"
      ],
      "text/plain": [
       "    SL   SW   PL   PW Classification\n",
       "0  5.1  3.5  1.4  0.2    Iris-setosa\n",
       "1  4.9  3.0  1.4  0.2    Iris-setosa\n",
       "2  NaN  3.2  1.3  0.2    Iris-setosa\n",
       "3  4.6  3.1  1.5  0.2    Iris-setosa\n",
       "4  5.0  3.6  1.4  0.2    Iris-setosa"
      ]
     },
     "execution_count": 184,
     "metadata": {},
     "output_type": "execute_result"
    }
   ],
   "source": [
    "#Data Set\n",
    "iris_data.head()"
   ]
  },
  {
   "cell_type": "code",
   "execution_count": 185,
   "id": "bb7b7de1",
   "metadata": {},
   "outputs": [
    {
     "name": "stdout",
     "output_type": "stream",
     "text": [
      "<class 'pandas.core.frame.DataFrame'>\n",
      "RangeIndex: 150 entries, 0 to 149\n",
      "Data columns (total 5 columns):\n",
      " #   Column          Non-Null Count  Dtype  \n",
      "---  ------          --------------  -----  \n",
      " 0   SL              143 non-null    float64\n",
      " 1   SW              144 non-null    float64\n",
      " 2   PL              144 non-null    float64\n",
      " 3   PW              150 non-null    float64\n",
      " 4   Classification  150 non-null    object \n",
      "dtypes: float64(4), object(1)\n",
      "memory usage: 6.0+ KB\n"
     ]
    }
   ],
   "source": [
    "#Information About Imported dataset\n",
    "iris_data.info()"
   ]
  },
  {
   "cell_type": "code",
   "execution_count": 186,
   "id": "2a0c7b13",
   "metadata": {},
   "outputs": [
    {
     "data": {
      "text/plain": [
       "Index(['SL', 'SW', 'PL', 'PW', 'Classification'], dtype='object')"
      ]
     },
     "execution_count": 186,
     "metadata": {},
     "output_type": "execute_result"
    }
   ],
   "source": [
    "#Columns\n",
    "iris_data.columns"
   ]
  },
  {
   "cell_type": "markdown",
   "id": "5142b7ae",
   "metadata": {},
   "source": [
    "### Checking Missing Values"
   ]
  },
  {
   "cell_type": "code",
   "execution_count": 187,
   "id": "2159dd78",
   "metadata": {},
   "outputs": [
    {
     "data": {
      "text/plain": [
       "SL                7\n",
       "SW                6\n",
       "PL                6\n",
       "PW                0\n",
       "Classification    0\n",
       "dtype: int64"
      ]
     },
     "execution_count": 187,
     "metadata": {},
     "output_type": "execute_result"
    }
   ],
   "source": [
    "iris_data.isna().sum()"
   ]
  },
  {
   "cell_type": "markdown",
   "id": "eb9d931e",
   "metadata": {},
   "source": [
    "Column SL, SW, Pl Have Missing Values"
   ]
  },
  {
   "cell_type": "markdown",
   "id": "cd65dac2",
   "metadata": {},
   "source": [
    "### Filling Missing Values By Column Mean"
   ]
  },
  {
   "cell_type": "code",
   "execution_count": 188,
   "id": "c8397375",
   "metadata": {},
   "outputs": [],
   "source": [
    "miss_col = ['SL','SW','PL']\n",
    "\n",
    "for i in miss_col:\n",
    "    iris_data[i] = iris_data[i].fillna(iris_data[i].mean())"
   ]
  },
  {
   "cell_type": "code",
   "execution_count": 189,
   "id": "a2e5aa35",
   "metadata": {},
   "outputs": [
    {
     "data": {
      "text/plain": [
       "SL                0\n",
       "SW                0\n",
       "PL                0\n",
       "PW                0\n",
       "Classification    0\n",
       "dtype: int64"
      ]
     },
     "execution_count": 189,
     "metadata": {},
     "output_type": "execute_result"
    }
   ],
   "source": [
    "iris_data.isna().sum()"
   ]
  },
  {
   "cell_type": "markdown",
   "id": "fc501350",
   "metadata": {},
   "source": [
    "Missing Values Were Removed"
   ]
  },
  {
   "cell_type": "markdown",
   "id": "73702ee3",
   "metadata": {},
   "source": [
    "### Checking For Outliers By Plotting Boxplot"
   ]
  },
  {
   "cell_type": "code",
   "execution_count": 190,
   "id": "7694d5a7",
   "metadata": {
    "scrolled": false
   },
   "outputs": [
    {
     "data": {
      "image/png": "[encoded data removed]",
      "text/plain": [
       "<Figure size 432x288 with 1 Axes>"
      ]
     },
     "metadata": {
      "needs_background": "light"
     },
     "output_type": "display_data"
    },
    {
     "data": {
      "image/png": "[encoded data removed]",
      "text/plain": [
       "<Figure size 432x288 with 1 Axes>"
      ]
     },
     "metadata": {
      "needs_background": "light"
     },
     "output_type": "display_data"
    },
    {
     "data": {
      "image/png": "[encoded data removed]",
      "text/plain": [
       "<Figure size 432x288 with 1 Axes>"
      ]
     },
     "metadata": {
      "needs_background": "light"
     },
     "output_type": "display_data"
    },
    {
     "data": {
      "image/png": "[encoded data removed]",
      "text/plain": [
       "<Figure size 432x288 with 1 Axes>"
      ]
     },
     "metadata": {
      "needs_background": "light"
     },
     "output_type": "display_data"
    }
   ],
   "source": [
    "cols = ['SL','SW','PL','PW']\n",
    "\n",
    "\n",
    "for i in cols:\n",
    "    plt.subplot(2,2,j)\n",
    "    plt.title(i,fontsize=20)\n",
    "    sns.boxplot(iris_data[i])\n",
    "    plt.show()"
   ]
  },
  {
   "cell_type": "markdown",
   "id": "71459793",
   "metadata": {},
   "source": [
    "Only SW column have outliers"
   ]
  },
  {
   "cell_type": "markdown",
   "id": "6a5c53b0",
   "metadata": {},
   "source": [
    "### Remove Outliers"
   ]
  },
  {
   "cell_type": "code",
   "execution_count": 191,
   "id": "fdb51bcd",
   "metadata": {},
   "outputs": [
    {
     "name": "stdout",
     "output_type": "stream",
     "text": [
      "Q1 =  2.8\n",
      "Q1 =  3.0\n",
      "Q3 =  3.25\n",
      "IQR =  0.4500000000000002\n",
      "Low Limit =  2.1249999999999996\n",
      "High Limit =  3.9250000000000003\n"
     ]
    }
   ],
   "source": [
    "Q1 = np.percentile(iris_data['SW'],25,interpolation='midpoint')\n",
    "print('Q1 = ',Q1)\n",
    "\n",
    "Q2 = np.percentile(iris_data['SW'],50,interpolation='midpoint')\n",
    "print('Q1 = ',Q2)\n",
    "\n",
    "Q3 = np.percentile(iris_data['SW'],75,interpolation='midpoint')\n",
    "print('Q3 = ',Q3)\n",
    "\n",
    "IQR = Q3-Q1\n",
    "print('IQR = ',IQR)\n",
    "\n",
    "low_lim = Q1-1.5*IQR\n",
    "print('Low Limit = ',low_lim)\n",
    "\n",
    "high_lim = Q3+1.5*IQR\n",
    "print('High Limit = ',high_lim)"
   ]
  },
  {
   "cell_type": "code",
   "execution_count": 192,
   "id": "3cae167d",
   "metadata": {},
   "outputs": [],
   "source": [
    "#remove Outliers\n",
    "iris_data['SW'] = np.where(iris_data['SW']>high_lim,high_lim,np.where(iris_data['SW']<low_lim,low_lim,iris_data['SW']))"
   ]
  },
  {
   "cell_type": "code",
   "execution_count": 193,
   "id": "a7ea49a2",
   "metadata": {},
   "outputs": [
    {
     "data": {
      "text/plain": [
       "<AxesSubplot:xlabel='SW'>"
      ]
     },
     "execution_count": 193,
     "metadata": {},
     "output_type": "execute_result"
    },
    {
     "data": {
      "image/png": "[encoded data removed]",
      "text/plain": [
       "<Figure size 432x288 with 1 Axes>"
      ]
     },
     "metadata": {
      "needs_background": "light"
     },
     "output_type": "display_data"
    }
   ],
   "source": [
    "sns.boxplot(iris_data['SW'])"
   ]
  },
  {
   "cell_type": "markdown",
   "id": "11f00e64",
   "metadata": {},
   "source": [
    "Outliers from SW column were removed"
   ]
  },
  {
   "cell_type": "markdown",
   "id": "77fd585b",
   "metadata": {},
   "source": [
    "### Label Encoding for Classification Column"
   ]
  },
  {
   "cell_type": "code",
   "execution_count": 194,
   "id": "941fd709",
   "metadata": {},
   "outputs": [],
   "source": [
    "encoder = LabelEncoder()\n",
    "iris_data['Classification'] = encoder.fit_transform(iris_data['Classification'])"
   ]
  },
  {
   "cell_type": "code",
   "execution_count": 195,
   "id": "a44b1786",
   "metadata": {},
   "outputs": [
    {
     "data": {
      "text/html": [
       "<div>\n",
       "<style scoped>\n",
       "    .dataframe tbody tr th:only-of-type {\n",
       "        vertical-align: middle;\n",
       "    }\n",
       "\n",
       "    .dataframe tbody tr th {\n",
       "        vertical-align: top;\n",
       "    }\n",
       "\n",
       "    .dataframe thead th {\n",
       "        text-align: right;\n",
       "    }\n",
       "</style>\n",
       "<table border=\"1\" class=\"dataframe\">\n",
       "  <thead>\n",
       "    <tr style=\"text-align: right;\">\n",
       "      <th></th>\n",
       "      <th>SL</th>\n",
       "      <th>SW</th>\n",
       "      <th>PL</th>\n",
       "      <th>PW</th>\n",
       "      <th>Classification</th>\n",
       "    </tr>\n",
       "  </thead>\n",
       "  <tbody>\n",
       "    <tr>\n",
       "      <th>0</th>\n",
       "      <td>5.100000</td>\n",
       "      <td>3.5</td>\n",
       "      <td>1.40000</td>\n",
       "      <td>0.2</td>\n",
       "      <td>0</td>\n",
       "    </tr>\n",
       "    <tr>\n",
       "      <th>1</th>\n",
       "      <td>4.900000</td>\n",
       "      <td>3.0</td>\n",
       "      <td>1.40000</td>\n",
       "      <td>0.2</td>\n",
       "      <td>0</td>\n",
       "    </tr>\n",
       "    <tr>\n",
       "      <th>2</th>\n",
       "      <td>5.855944</td>\n",
       "      <td>3.2</td>\n",
       "      <td>1.30000</td>\n",
       "      <td>0.2</td>\n",
       "      <td>0</td>\n",
       "    </tr>\n",
       "    <tr>\n",
       "      <th>3</th>\n",
       "      <td>4.600000</td>\n",
       "      <td>3.1</td>\n",
       "      <td>1.50000</td>\n",
       "      <td>0.2</td>\n",
       "      <td>0</td>\n",
       "    </tr>\n",
       "    <tr>\n",
       "      <th>4</th>\n",
       "      <td>5.000000</td>\n",
       "      <td>3.6</td>\n",
       "      <td>1.40000</td>\n",
       "      <td>0.2</td>\n",
       "      <td>0</td>\n",
       "    </tr>\n",
       "    <tr>\n",
       "      <th>...</th>\n",
       "      <td>...</td>\n",
       "      <td>...</td>\n",
       "      <td>...</td>\n",
       "      <td>...</td>\n",
       "      <td>...</td>\n",
       "    </tr>\n",
       "    <tr>\n",
       "      <th>145</th>\n",
       "      <td>6.700000</td>\n",
       "      <td>3.0</td>\n",
       "      <td>5.20000</td>\n",
       "      <td>2.3</td>\n",
       "      <td>2</td>\n",
       "    </tr>\n",
       "    <tr>\n",
       "      <th>146</th>\n",
       "      <td>6.300000</td>\n",
       "      <td>2.5</td>\n",
       "      <td>5.00000</td>\n",
       "      <td>1.9</td>\n",
       "      <td>2</td>\n",
       "    </tr>\n",
       "    <tr>\n",
       "      <th>147</th>\n",
       "      <td>6.500000</td>\n",
       "      <td>3.0</td>\n",
       "      <td>3.75625</td>\n",
       "      <td>2.0</td>\n",
       "      <td>2</td>\n",
       "    </tr>\n",
       "    <tr>\n",
       "      <th>148</th>\n",
       "      <td>6.200000</td>\n",
       "      <td>3.4</td>\n",
       "      <td>5.40000</td>\n",
       "      <td>2.3</td>\n",
       "      <td>2</td>\n",
       "    </tr>\n",
       "    <tr>\n",
       "      <th>149</th>\n",
       "      <td>5.900000</td>\n",
       "      <td>3.0</td>\n",
       "      <td>5.10000</td>\n",
       "      <td>1.8</td>\n",
       "      <td>2</td>\n",
       "    </tr>\n",
       "  </tbody>\n",
       "</table>\n",
       "<p>150 rows × 5 columns</p>\n",
       "</div>"
      ],
      "text/plain": [
       "           SL   SW       PL   PW  Classification\n",
       "0    5.100000  3.5  1.40000  0.2               0\n",
       "1    4.900000  3.0  1.40000  0.2               0\n",
       "2    5.855944  3.2  1.30000  0.2               0\n",
       "3    4.600000  3.1  1.50000  0.2               0\n",
       "4    5.000000  3.6  1.40000  0.2               0\n",
       "..        ...  ...      ...  ...             ...\n",
       "145  6.700000  3.0  5.20000  2.3               2\n",
       "146  6.300000  2.5  5.00000  1.9               2\n",
       "147  6.500000  3.0  3.75625  2.0               2\n",
       "148  6.200000  3.4  5.40000  2.3               2\n",
       "149  5.900000  3.0  5.10000  1.8               2\n",
       "\n",
       "[150 rows x 5 columns]"
      ]
     },
     "execution_count": 195,
     "metadata": {},
     "output_type": "execute_result"
    }
   ],
   "source": [
    "iris_data"
   ]
  },
  {
   "cell_type": "markdown",
   "id": "af501dc3",
   "metadata": {},
   "source": [
    "### Assign Target & Predictor Variable"
   ]
  },
  {
   "cell_type": "code",
   "execution_count": 196,
   "id": "d2d371cb",
   "metadata": {},
   "outputs": [],
   "source": [
    "#Target Variable\n",
    "y = iris_data['Classification']\n",
    "#Predictor variable\n",
    "x = iris_data.drop('Classification',axis=1)"
   ]
  },
  {
   "cell_type": "markdown",
   "id": "d0b21c52",
   "metadata": {},
   "source": [
    "### Standard Scaling On X"
   ]
  },
  {
   "cell_type": "code",
   "execution_count": 197,
   "id": "f3906a49",
   "metadata": {},
   "outputs": [],
   "source": [
    "scaler = StandardScaler()\n",
    "x = scaler.fit_transform(x)"
   ]
  },
  {
   "cell_type": "markdown",
   "id": "77dff02d",
   "metadata": {},
   "source": [
    "### Split Train & Test set"
   ]
  },
  {
   "cell_type": "code",
   "execution_count": 198,
   "id": "178bfa06",
   "metadata": {},
   "outputs": [],
   "source": [
    "x_train,x_test,y_train,y_test = train_test_split(x,y,test_size=0.2)"
   ]
  },
  {
   "cell_type": "markdown",
   "id": "fd5c56cd",
   "metadata": {},
   "source": [
    "# Different Classification Techniques"
   ]
  },
  {
   "cell_type": "markdown",
   "id": "8cda54b9",
   "metadata": {},
   "source": [
    "### Logistic Regression"
   ]
  },
  {
   "cell_type": "code",
   "execution_count": 199,
   "id": "406d5a74",
   "metadata": {},
   "outputs": [
    {
     "data": {
      "text/plain": [
       "array([0, 0, 1, 2, 1, 1, 1, 1, 0, 0, 2, 2, 1, 1, 0, 1, 1, 1, 1, 2, 2, 2,\n",
       "       1, 0, 0, 0, 0, 2, 1, 1])"
      ]
     },
     "execution_count": 199,
     "metadata": {},
     "output_type": "execute_result"
    }
   ],
   "source": [
    "lr = LogisticRegression()\n",
    "lr.fit(x_train,y_train)\n",
    "lr_pred = lr.predict(x_test)\n",
    "lr_pred"
   ]
  },
  {
   "cell_type": "code",
   "execution_count": 200,
   "id": "becb0ce0",
   "metadata": {},
   "outputs": [
    {
     "data": {
      "text/plain": [
       "0.9333333333333333"
      ]
     },
     "execution_count": 200,
     "metadata": {},
     "output_type": "execute_result"
    }
   ],
   "source": [
    "accuracy_score(y_test,lr_pred)"
   ]
  },
  {
   "cell_type": "markdown",
   "id": "f359d366",
   "metadata": {},
   "source": [
    "### K Nearest Neighbor Classifier"
   ]
  },
  {
   "cell_type": "code",
   "execution_count": 201,
   "id": "2e9a8e44",
   "metadata": {},
   "outputs": [],
   "source": [
    "acc_values = []\n",
    "neighbors = np.arange(1,10)\n",
    "for k in neighbors:\n",
    "    knn = KNeighborsClassifier(n_neighbors = k, metric = 'minkowski')\n",
    "    knn.fit(x_train,y_train)\n",
    "    pred = knn.predict(x_test)\n",
    "    accuracy = accuracy_score(y_test,pred)\n",
    "    acc_values.append(accuracy)"
   ]
  },
  {
   "cell_type": "code",
   "execution_count": 202,
   "id": "bd088ccf",
   "metadata": {},
   "outputs": [
    {
     "data": {
      "text/plain": [
       "[0.9333333333333333,\n",
       " 0.9333333333333333,\n",
       " 0.9666666666666667,\n",
       " 0.9666666666666667,\n",
       " 1.0,\n",
       " 0.9666666666666667,\n",
       " 0.9666666666666667,\n",
       " 0.9666666666666667,\n",
       " 0.9666666666666667]"
      ]
     },
     "execution_count": 202,
     "metadata": {},
     "output_type": "execute_result"
    }
   ],
   "source": [
    "acc_values"
   ]
  },
  {
   "cell_type": "code",
   "execution_count": 203,
   "id": "89c0cf14",
   "metadata": {},
   "outputs": [
    {
     "data": {
      "text/plain": [
       "[<matplotlib.lines.Line2D at 0x221cc9a2a30>]"
      ]
     },
     "execution_count": 203,
     "metadata": {},
     "output_type": "execute_result"
    },
    {
     "data": {
      "image/png": "[encoded data removed]",
      "text/plain": [
       "<Figure size 432x288 with 1 Axes>"
      ]
     },
     "metadata": {
      "needs_background": "light"
     },
     "output_type": "display_data"
    }
   ],
   "source": [
    "plt.plot(neighbors,acc_values,'-o')"
   ]
  },
  {
   "cell_type": "code",
   "execution_count": 212,
   "id": "15d5cb82",
   "metadata": {},
   "outputs": [
    {
     "data": {
      "text/plain": [
       "array([0, 0, 1, 2, 1, 2, 1, 1, 0, 0, 2, 2, 1, 1, 0, 1, 1, 1, 2, 2, 2, 2,\n",
       "       1, 0, 0, 0, 0, 2, 1, 1])"
      ]
     },
     "execution_count": 212,
     "metadata": {},
     "output_type": "execute_result"
    }
   ],
   "source": [
    "mod_knn = KNeighborsClassifier(n_neighbors = 5, metric = 'minkowski')\n",
    "mod_knn.fit(x_train,y_train)\n",
    "knn_pred = mod_knn.predict(x_test)\n",
    "knn_pred"
   ]
  },
  {
   "cell_type": "code",
   "execution_count": 213,
   "id": "aaf986ab",
   "metadata": {},
   "outputs": [
    {
     "data": {
      "text/plain": [
       "1.0"
      ]
     },
     "execution_count": 213,
     "metadata": {},
     "output_type": "execute_result"
    }
   ],
   "source": [
    "accuracy_score(y_test,knn_pred)"
   ]
  },
  {
   "cell_type": "markdown",
   "id": "80747e34",
   "metadata": {},
   "source": [
    "### Support Vector Mechine"
   ]
  },
  {
   "cell_type": "code",
   "execution_count": 214,
   "id": "c024dcc8",
   "metadata": {},
   "outputs": [
    {
     "data": {
      "text/plain": [
       "array([0, 0, 1, 2, 1, 1, 1, 1, 0, 0, 2, 2, 1, 1, 0, 1, 1, 1, 1, 2, 2, 2,\n",
       "       1, 0, 0, 0, 0, 2, 1, 1])"
      ]
     },
     "execution_count": 214,
     "metadata": {},
     "output_type": "execute_result"
    }
   ],
   "source": [
    "svm = SVC(kernel = 'linear')\n",
    "svm.fit(x_train,y_train)\n",
    "svm_pred = svm.predict(x_test)\n",
    "svm_pred"
   ]
  },
  {
   "cell_type": "code",
   "execution_count": 215,
   "id": "1b92f60e",
   "metadata": {},
   "outputs": [
    {
     "data": {
      "text/plain": [
       "0.9333333333333333"
      ]
     },
     "execution_count": 215,
     "metadata": {},
     "output_type": "execute_result"
    }
   ],
   "source": [
    "accuracy_score(y_test,svm_pred)"
   ]
  },
  {
   "cell_type": "markdown",
   "id": "8bc607e8",
   "metadata": {},
   "source": [
    "### Decision Tree Classifier"
   ]
  },
  {
   "cell_type": "code",
   "execution_count": 216,
   "id": "78ac5394",
   "metadata": {},
   "outputs": [
    {
     "data": {
      "text/plain": [
       "array([0, 0, 1, 2, 1, 1, 1, 1, 0, 0, 2, 2, 1, 1, 0, 1, 1, 1, 2, 2, 2, 2,\n",
       "       1, 0, 0, 0, 0, 2, 1, 1])"
      ]
     },
     "execution_count": 216,
     "metadata": {},
     "output_type": "execute_result"
    }
   ],
   "source": [
    "dt = DecisionTreeClassifier()\n",
    "dt.fit(x_train,y_train)\n",
    "dt_pred = dt.predict(x_test)\n",
    "dt_pred"
   ]
  },
  {
   "cell_type": "code",
   "execution_count": 217,
   "id": "3a799c3e",
   "metadata": {},
   "outputs": [
    {
     "data": {
      "text/plain": [
       "0.9666666666666667"
      ]
     },
     "execution_count": 217,
     "metadata": {},
     "output_type": "execute_result"
    }
   ],
   "source": [
    "accuracy_score(y_test,dt_pred)"
   ]
  },
  {
   "cell_type": "markdown",
   "id": "9a117fd0",
   "metadata": {},
   "source": [
    "### Random Forest Classifier"
   ]
  },
  {
   "cell_type": "code",
   "execution_count": 218,
   "id": "aa0fa99a",
   "metadata": {},
   "outputs": [
    {
     "data": {
      "text/plain": [
       "array([0, 0, 1, 2, 1, 1, 1, 1, 0, 0, 2, 2, 1, 1, 0, 1, 1, 1, 1, 2, 2, 2,\n",
       "       1, 0, 0, 0, 0, 2, 1, 1])"
      ]
     },
     "execution_count": 218,
     "metadata": {},
     "output_type": "execute_result"
    }
   ],
   "source": [
    "rf = RandomForestClassifier()\n",
    "rf.fit(x_train,y_train)\n",
    "rf_pred = rf.predict(x_test)\n",
    "rf_pred"
   ]
  },
  {
   "cell_type": "code",
   "execution_count": 219,
   "id": "c7893dab",
   "metadata": {},
   "outputs": [
    {
     "data": {
      "text/plain": [
       "0.9333333333333333"
      ]
     },
     "execution_count": 219,
     "metadata": {},
     "output_type": "execute_result"
    }
   ],
   "source": [
    "accuracy_score(y_test,rf_pred)"
   ]
  },
  {
   "cell_type": "code",
   "execution_count": null,
   "id": "dab83af2",
   "metadata": {},
   "outputs": [],
   "source": []
  }
 ],
 "metadata": {
  "kernelspec": {
   "display_name": "Python 3",
   "language": "python",
   "name": "python3"
  },
  "language_info": {
   "codemirror_mode": {
    "name": "ipython",
    "version": 3
   },
   "file_extension": ".py",
   "mimetype": "text/x-python",
   "name": "python",
   "nbconvert_exporter": "python",
   "pygments_lexer": "ipython3",
   "version": "3.8.8"
  }
 },
 "nbformat": 4,
 "nbformat_minor": 5
}
