{
 "cells": [
  {
   "cell_type": "code",
   "execution_count": 1,
   "id": "cd4889fb",
   "metadata": {},
   "outputs": [],
   "source": [
    "import pandas as pd"
   ]
  },
  {
   "cell_type": "code",
   "execution_count": 8,
   "id": "6331f6fd",
   "metadata": {},
   "outputs": [],
   "source": [
    "df = pd.read_csv(r'C:\\Users\\JISHNU JAYASANKAR\\Desktop\\DSA_files\\Sales_add.csv')"
   ]
  },
  {
   "cell_type": "code",
   "execution_count": 9,
   "id": "b8d7498b",
   "metadata": {},
   "outputs": [
    {
     "data": {
      "text/html": [
       "<div>\n",
       "<style scoped>\n",
       "    .dataframe tbody tr th:only-of-type {\n",
       "        vertical-align: middle;\n",
       "    }\n",
       "\n",
       "    .dataframe tbody tr th {\n",
       "        vertical-align: top;\n",
       "    }\n",
       "\n",
       "    .dataframe thead th {\n",
       "        text-align: right;\n",
       "    }\n",
       "</style>\n",
       "<table border=\"1\" class=\"dataframe\">\n",
       "  <thead>\n",
       "    <tr style=\"text-align: right;\">\n",
       "      <th></th>\n",
       "      <th>Month</th>\n",
       "      <th>Region</th>\n",
       "      <th>Manager</th>\n",
       "      <th>Sales_before_digital_add(in $)</th>\n",
       "      <th>Sales_After_digital_add(in $)</th>\n",
       "    </tr>\n",
       "  </thead>\n",
       "  <tbody>\n",
       "    <tr>\n",
       "      <th>0</th>\n",
       "      <td>Month-1</td>\n",
       "      <td>Region - A</td>\n",
       "      <td>Manager - A</td>\n",
       "      <td>132921</td>\n",
       "      <td>270390</td>\n",
       "    </tr>\n",
       "    <tr>\n",
       "      <th>1</th>\n",
       "      <td>Month-2</td>\n",
       "      <td>Region - A</td>\n",
       "      <td>Manager - C</td>\n",
       "      <td>149559</td>\n",
       "      <td>223334</td>\n",
       "    </tr>\n",
       "    <tr>\n",
       "      <th>2</th>\n",
       "      <td>Month-3</td>\n",
       "      <td>Region - B</td>\n",
       "      <td>Manager - A</td>\n",
       "      <td>146278</td>\n",
       "      <td>244243</td>\n",
       "    </tr>\n",
       "    <tr>\n",
       "      <th>3</th>\n",
       "      <td>Month-4</td>\n",
       "      <td>Region - B</td>\n",
       "      <td>Manager - B</td>\n",
       "      <td>152167</td>\n",
       "      <td>231808</td>\n",
       "    </tr>\n",
       "    <tr>\n",
       "      <th>4</th>\n",
       "      <td>Month-5</td>\n",
       "      <td>Region - C</td>\n",
       "      <td>Manager - B</td>\n",
       "      <td>159525</td>\n",
       "      <td>258402</td>\n",
       "    </tr>\n",
       "  </tbody>\n",
       "</table>\n",
       "</div>"
      ],
      "text/plain": [
       "     Month      Region      Manager  Sales_before_digital_add(in $)  \\\n",
       "0  Month-1  Region - A  Manager - A                          132921   \n",
       "1  Month-2  Region - A  Manager - C                          149559   \n",
       "2  Month-3  Region - B  Manager - A                          146278   \n",
       "3  Month-4  Region - B  Manager - B                          152167   \n",
       "4  Month-5  Region - C  Manager - B                          159525   \n",
       "\n",
       "   Sales_After_digital_add(in $)  \n",
       "0                         270390  \n",
       "1                         223334  \n",
       "2                         244243  \n",
       "3                         231808  \n",
       "4                         258402  "
      ]
     },
     "execution_count": 9,
     "metadata": {},
     "output_type": "execute_result"
    }
   ],
   "source": [
    "df.head()"
   ]
  },
  {
   "cell_type": "code",
   "execution_count": 35,
   "id": "1f9b7656",
   "metadata": {},
   "outputs": [
    {
     "name": "stdout",
     "output_type": "stream",
     "text": [
      "<class 'pandas.core.frame.DataFrame'>\n",
      "RangeIndex: 22 entries, 0 to 21\n",
      "Data columns (total 5 columns):\n",
      " #   Column                          Non-Null Count  Dtype \n",
      "---  ------                          --------------  ----- \n",
      " 0   Month                           22 non-null     object\n",
      " 1   Region                          22 non-null     object\n",
      " 2   Manager                         22 non-null     object\n",
      " 3   Sales_before_digital_add(in $)  22 non-null     int64 \n",
      " 4   Sales_After_digital_add(in $)   22 non-null     int64 \n",
      "dtypes: int64(2), object(3)\n",
      "memory usage: 1008.0+ bytes\n"
     ]
    }
   ],
   "source": [
    "df.info()"
   ]
  },
  {
   "cell_type": "code",
   "execution_count": 36,
   "id": "415f8546",
   "metadata": {},
   "outputs": [
    {
     "data": {
      "text/plain": [
       "Month                             0\n",
       "Region                            0\n",
       "Manager                           0\n",
       "Sales_before_digital_add(in $)    0\n",
       "Sales_After_digital_add(in $)     0\n",
       "dtype: int64"
      ]
     },
     "execution_count": 36,
     "metadata": {},
     "output_type": "execute_result"
    }
   ],
   "source": [
    "df.isna().sum()"
   ]
  },
  {
   "cell_type": "markdown",
   "id": "238e2104",
   "metadata": {},
   "source": [
    "# 1. The company wishes to clarify whether there is any increase in sales after stepping into digital marketing."
   ]
  },
  {
   "cell_type": "code",
   "execution_count": 37,
   "id": "1eff8f79",
   "metadata": {},
   "outputs": [],
   "source": [
    "beforeDig = df['Sales_before_digital_add(in $)']"
   ]
  },
  {
   "cell_type": "code",
   "execution_count": 38,
   "id": "09255f6b",
   "metadata": {},
   "outputs": [],
   "source": [
    "afterDig = df['Sales_After_digital_add(in $)']"
   ]
  },
  {
   "cell_type": "code",
   "execution_count": 39,
   "id": "358133e6",
   "metadata": {},
   "outputs": [],
   "source": [
    "from scipy import stats"
   ]
  },
  {
   "cell_type": "markdown",
   "id": "d02a4156",
   "metadata": {},
   "source": [
    "H0 : There is increase in sales after stepping into digital marketing  \n",
    "H1 : There is no increase in sales after stepping into digital marketing "
   ]
  },
  {
   "cell_type": "code",
   "execution_count": 40,
   "id": "f0bbb0f5",
   "metadata": {},
   "outputs": [
    {
     "name": "stdout",
     "output_type": "stream",
     "text": [
      "tvalue= 12.995084451110877\n",
      "pvalue= 2.614368006904645e-16\n"
     ]
    }
   ],
   "source": [
    "t_value,p_value = stats.ttest_ind(afterDig,beforeDig)\n",
    "print('tvalue=',t_value)\n",
    "print('pvalue=',p_value)"
   ]
  },
  {
   "cell_type": "code",
   "execution_count": 44,
   "id": "db785196",
   "metadata": {},
   "outputs": [
    {
     "name": "stdout",
     "output_type": "stream",
     "text": [
      "Accept H1, ie. There is no increase in sales after stepping into digital marketing\n"
     ]
    }
   ],
   "source": [
    "if p_value > 0.05:\n",
    "    print('Accept H0, ie. There is increase in sales after stepping into digital marketing ')\n",
    "else:\n",
    "    print('Accept H1, ie. There is no increase in sales after stepping into digital marketing')"
   ]
  },
  {
   "cell_type": "markdown",
   "id": "6ef9ccb8",
   "metadata": {},
   "source": [
    "# 2. The company needs to check whether there is any dependency between the features “Region” and “Manager”."
   ]
  },
  {
   "cell_type": "markdown",
   "id": "d0bf2470",
   "metadata": {},
   "source": [
    "H0 : Region and Manager are independent    \n",
    "H1 : Region and manager are not independent"
   ]
  },
  {
   "cell_type": "code",
   "execution_count": 55,
   "id": "8bacbd72",
   "metadata": {},
   "outputs": [
    {
     "data": {
      "text/html": [
       "<div>\n",
       "<style scoped>\n",
       "    .dataframe tbody tr th:only-of-type {\n",
       "        vertical-align: middle;\n",
       "    }\n",
       "\n",
       "    .dataframe tbody tr th {\n",
       "        vertical-align: top;\n",
       "    }\n",
       "\n",
       "    .dataframe thead th {\n",
       "        text-align: right;\n",
       "    }\n",
       "</style>\n",
       "<table border=\"1\" class=\"dataframe\">\n",
       "  <thead>\n",
       "    <tr style=\"text-align: right;\">\n",
       "      <th>Manager</th>\n",
       "      <th>Manager - A</th>\n",
       "      <th>Manager - B</th>\n",
       "      <th>Manager - C</th>\n",
       "    </tr>\n",
       "    <tr>\n",
       "      <th>Region</th>\n",
       "      <th></th>\n",
       "      <th></th>\n",
       "      <th></th>\n",
       "    </tr>\n",
       "  </thead>\n",
       "  <tbody>\n",
       "    <tr>\n",
       "      <th>Region - A</th>\n",
       "      <td>4</td>\n",
       "      <td>3</td>\n",
       "      <td>3</td>\n",
       "    </tr>\n",
       "    <tr>\n",
       "      <th>Region - B</th>\n",
       "      <td>4</td>\n",
       "      <td>1</td>\n",
       "      <td>2</td>\n",
       "    </tr>\n",
       "    <tr>\n",
       "      <th>Region - C</th>\n",
       "      <td>1</td>\n",
       "      <td>3</td>\n",
       "      <td>1</td>\n",
       "    </tr>\n",
       "  </tbody>\n",
       "</table>\n",
       "</div>"
      ],
      "text/plain": [
       "Manager     Manager - A  Manager - B  Manager - C\n",
       "Region                                           \n",
       "Region - A            4            3            3\n",
       "Region - B            4            1            2\n",
       "Region - C            1            3            1"
      ]
     },
     "execution_count": 55,
     "metadata": {},
     "output_type": "execute_result"
    }
   ],
   "source": [
    "#convert the data into a contingency table with frequencies\n",
    "contigency= pd.crosstab(df['Region'], df['Manager'])\n",
    "contigency"
   ]
  },
  {
   "cell_type": "code",
   "execution_count": 56,
   "id": "759864ce",
   "metadata": {},
   "outputs": [],
   "source": [
    "from scipy.stats import chi2_contingency"
   ]
  },
  {
   "cell_type": "code",
   "execution_count": 59,
   "id": "cea9500e",
   "metadata": {},
   "outputs": [
    {
     "data": {
      "text/plain": [
       "0.5493991051158094"
      ]
     },
     "execution_count": 59,
     "metadata": {},
     "output_type": "execute_result"
    }
   ],
   "source": [
    "# Chi-square test of independence.\n",
    "c, p, dof, expected = chi2_contingency(contigency)\n",
    "p"
   ]
  },
  {
   "cell_type": "code",
   "execution_count": 60,
   "id": "2095db54",
   "metadata": {},
   "outputs": [
    {
     "name": "stdout",
     "output_type": "stream",
     "text": [
      "Accept H0, ie. Region and Manager are independent \n"
     ]
    }
   ],
   "source": [
    "if p > 0.05:\n",
    "    print('Accept H0, ie. Region and Manager are independent ')\n",
    "else:\n",
    "    print('Accept H1, ie. Region and Manager are not independent ')"
   ]
  },
  {
   "cell_type": "code",
   "execution_count": null,
   "id": "b0de78e6",
   "metadata": {},
   "outputs": [],
   "source": []
  }
 ],
 "metadata": {
  "kernelspec": {
   "display_name": "Python 3",
   "language": "python",
   "name": "python3"
  },
  "language_info": {
   "codemirror_mode": {
    "name": "ipython",
    "version": 3
   },
   "file_extension": ".py",
   "mimetype": "text/x-python",
   "name": "python",
   "nbconvert_exporter": "python",
   "pygments_lexer": "ipython3",
   "version": "3.8.8"
  }
 },
 "nbformat": 4,
 "nbformat_minor": 5
}
